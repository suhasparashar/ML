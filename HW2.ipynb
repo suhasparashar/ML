{
  "nbformat": 4,
  "nbformat_minor": 0,
  "metadata": {
    "colab": {
      "name": "HW2.ipynb",
      "version": "0.3.2",
      "provenance": [],
      "collapsed_sections": [],
      "include_colab_link": true
    },
    "kernelspec": {
      "name": "python3",
      "display_name": "Python 3"
    }
  },
  "cells": [
    {
      "cell_type": "markdown",
      "metadata": {
        "id": "view-in-github",
        "colab_type": "text"
      },
      "source": [
        "<a href=\"https://colab.research.google.com/github/suhasparashar/ML/blob/master/HW2.ipynb\" target=\"_parent\"><img src=\"https://colab.research.google.com/assets/colab-badge.svg\" alt=\"Open In Colab\"/></a>"
      ]
    },
    {
      "metadata": {
        "id": "95ZHuILtUkDp",
        "colab_type": "code",
        "colab": {}
      },
      "cell_type": "code",
      "source": [
        "from sklearn import datasets"
      ],
      "execution_count": 0,
      "outputs": []
    },
    {
      "metadata": {
        "id": "tJEQcby8UtfL",
        "colab_type": "code",
        "colab": {}
      },
      "cell_type": "code",
      "source": [
        "iris = datasets.load_iris()"
      ],
      "execution_count": 0,
      "outputs": []
    },
    {
      "metadata": {
        "id": "Anm99q8_U47o",
        "colab_type": "code",
        "colab": {}
      },
      "cell_type": "code",
      "source": [
        "y = iris.target\n",
        "x = iris.data"
      ],
      "execution_count": 0,
      "outputs": []
    },
    {
      "metadata": {
        "id": "5OUgypoLU5q5",
        "colab_type": "code",
        "colab": {}
      },
      "cell_type": "code",
      "source": [
        "import numpy as np"
      ],
      "execution_count": 0,
      "outputs": []
    },
    {
      "metadata": {
        "id": "utxp3jITXve2",
        "colab_type": "code",
        "colab": {}
      },
      "cell_type": "code",
      "source": [
        "x_0 = np.matrix(x[0:50])\n",
        "x_1 = np.matrix(x[50:100])\n",
        "x_2 = np.matrix(x[100:150])\n",
        "\n",
        "y1 = np.append(y[0:50],y[50:100], axis = 0);\n",
        "y2 = np.append(y[50:100],y[100:150], axis = 0);\n",
        "y3 = np.append(y[100:150],y[0:50], axis = 0);"
      ],
      "execution_count": 0,
      "outputs": []
    },
    {
      "metadata": {
        "id": "1qta9OvFWhsU",
        "colab_type": "code",
        "colab": {}
      },
      "cell_type": "code",
      "source": [
        "u_mean_0 = x_0.mean(0)\n",
        "u_mean_1 = x_1.mean(0)\n",
        "u_mean_2 = x_2.mean(0)\n",
        "x_mean = np.matrix(x).mean(0)"
      ],
      "execution_count": 0,
      "outputs": []
    },
    {
      "metadata": {
        "id": "dLcuGq4jWm9p",
        "colab_type": "code",
        "colab": {}
      },
      "cell_type": "code",
      "source": [
        "s_b_1 = ((u_mean_1 - u_mean_0)*np.transpose(u_mean_1-u_mean_0) ) \n",
        "s_b_2 = ((u_mean_2 - u_mean_1)*np.transpose(u_mean_2-u_mean_1) ) \n",
        "s_b_3 = ((u_mean_0 - u_mean_2)*np.transpose(u_mean_0-u_mean_2) ) "
      ],
      "execution_count": 0,
      "outputs": []
    },
    {
      "metadata": {
        "id": "QalM58JnWoB3",
        "colab_type": "code",
        "colab": {}
      },
      "cell_type": "code",
      "source": [
        "s_w_1 = (np.transpose(x_0 - u_mean_0)  * (x_0 - u_mean_0 ))+ (np.transpose(x_1 - u_mean_1) *(x_1 - u_mean_1) )\n",
        "s_w_2 = (np.transpose(x_2 - u_mean_2)  * (x_2 - u_mean_2 ))+ (np.transpose(x_1 - u_mean_1) *(x_1 - u_mean_1) )\n",
        "s_w_3 = (np.transpose(x_0 - u_mean_0)  * (x_0 - u_mean_0 ))+ (np.transpose(x_2 - u_mean_2) *(x_2 - u_mean_2) )"
      ],
      "execution_count": 0,
      "outputs": []
    },
    {
      "metadata": {
        "id": "kHiluLa8Ygi4",
        "colab_type": "code",
        "colab": {}
      },
      "cell_type": "code",
      "source": [
        "w1 = np.linalg.inv(s_w_1) * np.transpose(u_mean_1 - u_mean_0)\n",
        "w2 = np.linalg.inv(s_w_2) * np.transpose(u_mean_2 - u_mean_1)\n",
        "w3 = np.linalg.inv(s_w_3) * np.transpose(u_mean_0 - u_mean_2)"
      ],
      "execution_count": 0,
      "outputs": []
    },
    {
      "metadata": {
        "id": "q3mlLMy4ZVvY",
        "colab_type": "code",
        "colab": {}
      },
      "cell_type": "code",
      "source": [
        "pred_x_1 = np.transpose(w1)*np.transpose(np.append(x_0,x_1, axis = 0))\n",
        "pred_x_2 = np.transpose(w2)*np.transpose(np.append(x_1,x_2, axis = 0))\n",
        "pred_x_3 = np.transpose(w3)*np.transpose(np.append(x_2,x_0, axis = 0))"
      ],
      "execution_count": 0,
      "outputs": []
    },
    {
      "metadata": {
        "id": "CrdugiIibcz1",
        "colab_type": "code",
        "colab": {}
      },
      "cell_type": "code",
      "source": [
        "# pred_x[pred_x > 0] =1\n",
        "# pred_x[pred_x < 0] =0\n",
        "\n",
        "# pred_x = pred_x.astype(int)\n",
        "pred_x_1 = np.array(pred_x_1)[0]\n",
        "pred_x_2 = np.array(pred_x_2)[0]\n",
        "pred_x_3 = np.array(pred_x_3)[0]"
      ],
      "execution_count": 0,
      "outputs": []
    },
    {
      "metadata": {
        "id": "CZ2df9bfb4lZ",
        "colab_type": "code",
        "outputId": "629366f8-cdb5-43ad-d32d-f4f89e1a4ed4",
        "colab": {
          "base_uri": "https://localhost:8080/",
          "height": 85
        }
      },
      "cell_type": "code",
      "source": [
        "np.linalg.inv(s_w_2)"
      ],
      "execution_count": 0,
      "outputs": [
        {
          "output_type": "execute_result",
          "data": {
            "text/plain": [
              "matrix([[ 0.09885078, -0.0327603 , -0.08866307,  0.0292804 ],\n",
              "        [-0.0327603 ,  0.17459685,  0.00476992, -0.11049354],\n",
              "        [-0.08866307,  0.00476992,  0.13481156, -0.06602503],\n",
              "        [ 0.0292804 , -0.11049354, -0.06602503,  0.30734625]])"
            ]
          },
          "metadata": {
            "tags": []
          },
          "execution_count": 72
        }
      ]
    },
    {
      "metadata": {
        "id": "Z9UqFy0VewAb",
        "colab_type": "code",
        "colab": {}
      },
      "cell_type": "code",
      "source": [
        "import matplotlib.pyplot as plt"
      ],
      "execution_count": 0,
      "outputs": []
    },
    {
      "metadata": {
        "id": "_i3Irw6CjBpN",
        "colab_type": "code",
        "outputId": "5834c1a1-7318-435d-92b7-62731a3e08d0",
        "colab": {
          "base_uri": "https://localhost:8080/",
          "height": 413
        }
      },
      "cell_type": "code",
      "source": [
        "from matplotlib.pyplot import figure\n",
        "figure(num=None, figsize=(8, 6), dpi=80, facecolor='w', edgecolor='k')\n",
        "\n",
        "plt.subplot(3,1,1)\n",
        "plt.scatter(pred_x_1[np.where(y1==0)],np.zeros(50),marker='o',c='g')\n",
        "#plt.plot(x[0:100,0], np.array(w1[0]* x[0:100,0])[0])\n",
        "plt.scatter(pred_x_1[np.where(y1==1)],np.zeros(50),marker='.',c= 'b')\n",
        "plt.subplot(3,1,2)\n",
        "plt.scatter(pred_x_2[np.where(y2==1)],np.zeros(50),marker='o', c='b')\n",
        "plt.scatter(pred_x_2[np.where(y2==2)],np.zeros(50),marker='.', c= 'r')\n",
        "\n",
        "plt.subplot(3,1,3)\n",
        "plt.scatter(pred_x_3[np.where(y3==2)],np.zeros(50),marker='o',c='r')\n",
        "#plt.plot(x[0:100,0], np.array(w1[0]* x[0:100,0])[0])\n",
        "plt.scatter(pred_x_3[np.where(y3==0)],np.zeros(50),marker='.',c= 'g')\n",
        "\n",
        "\n",
        "plt.show()"
      ],
      "execution_count": 0,
      "outputs": [
        {
          "output_type": "display_data",
          "data": {
            "image/png": "[encoded data removed]",
            "text/plain": [
              "<Figure size 640x480 with 3 Axes>"
            ]
          },
          "metadata": {
            "tags": []
          }
        }
      ]
    },
    {
      "metadata": {
        "id": "X3jMDjw9jCUq",
        "colab_type": "code",
        "outputId": "37d42e60-6d44-406a-cc93-9b33497804db",
        "colab": {
          "base_uri": "https://localhost:8080/",
          "height": 34
        }
      },
      "cell_type": "code",
      "source": [
        "len(w1[0]* x[0:100,0])"
      ],
      "execution_count": 0,
      "outputs": [
        {
          "output_type": "execute_result",
          "data": {
            "text/plain": [
              "1"
            ]
          },
          "metadata": {
            "tags": []
          },
          "execution_count": 75
        }
      ]
    },
    {
      "metadata": {
        "id": "atA3ohA3qGoT",
        "colab_type": "code",
        "outputId": "f542cd09-482e-42e5-e75c-8ff02f7c3d59",
        "colab": {
          "base_uri": "https://localhost:8080/",
          "height": 34
        }
      },
      "cell_type": "code",
      "source": [
        "len(pred_x_2[pred_x_2<=0])"
      ],
      "execution_count": 0,
      "outputs": [
        {
          "output_type": "execute_result",
          "data": {
            "text/plain": [
              "0"
            ]
          },
          "metadata": {
            "tags": []
          },
          "execution_count": 76
        }
      ]
    },
    {
      "metadata": {
        "id": "oCBvxu-NsQ0H",
        "colab_type": "code",
        "outputId": "3fc72980-f755-4295-c5b3-30fb544a7a6a",
        "colab": {
          "base_uri": "https://localhost:8080/",
          "height": 85
        }
      },
      "cell_type": "code",
      "source": [
        "w1"
      ],
      "execution_count": 0,
      "outputs": [
        {
          "output_type": "execute_result",
          "data": {
            "text/plain": [
              "matrix([[-0.03115072],\n",
              "        [-0.18390775],\n",
              "        [ 0.22210403],\n",
              "        [ 0.31473638]])"
            ]
          },
          "metadata": {
            "tags": []
          },
          "execution_count": 77
        }
      ]
    },
    {
      "metadata": {
        "id": "6SCqPX75mHpP",
        "colab_type": "code",
        "outputId": "56dc014a-6018-44fa-b1a1-c1e19a4057cb",
        "colab": {
          "base_uri": "https://localhost:8080/",
          "height": 85
        }
      },
      "cell_type": "code",
      "source": [
        "w2"
      ],
      "execution_count": 0,
      "outputs": [
        {
          "output_type": "execute_result",
          "data": {
            "text/plain": [
              "matrix([[-0.0362888 ],\n",
              "        [-0.0569247 ],\n",
              "        [ 0.07112375],\n",
              "        [ 0.12638818]])"
            ]
          },
          "metadata": {
            "tags": []
          },
          "execution_count": 78
        }
      ]
    },
    {
      "metadata": {
        "id": "RJbUZaE6cMoZ",
        "colab_type": "code",
        "outputId": "6f95a4ac-6706-4980-9676-f7ad50148f7e",
        "colab": {
          "base_uri": "https://localhost:8080/",
          "height": 85
        }
      },
      "cell_type": "code",
      "source": [
        "w3"
      ],
      "execution_count": 0,
      "outputs": [
        {
          "output_type": "execute_result",
          "data": {
            "text/plain": [
              "matrix([[ 0.16164635],\n",
              "        [ 0.12265414],\n",
              "        [-0.37263656],\n",
              "        [-0.37508147]])"
            ]
          },
          "metadata": {
            "tags": []
          },
          "execution_count": 79
        }
      ]
    },
    {
      "metadata": {
        "id": "KhOnwfNocNX_",
        "colab_type": "code",
        "outputId": "5eda58b0-a257-494a-cea7-2629042a17d2",
        "colab": {
          "base_uri": "https://localhost:8080/",
          "height": 68
        }
      },
      "cell_type": "code",
      "source": [
        "print(u_mean_0)\n",
        "print(u_mean_1 )\n",
        "print(u_mean_2 )"
      ],
      "execution_count": 0,
      "outputs": [
        {
          "output_type": "stream",
          "text": [
            "[[5.006 3.428 1.462 0.246]]\n",
            "[[5.936 2.77  4.26  1.326]]\n",
            "[[6.588 2.974 5.552 2.026]]\n"
          ],
          "name": "stdout"
        }
      ]
    },
    {
      "metadata": {
        "id": "KcBGNM9oiJoG",
        "colab_type": "code",
        "outputId": "d5339e97-58cf-4252-9a53-15632960a6af",
        "colab": {
          "base_uri": "https://localhost:8080/",
          "height": 85
        }
      },
      "cell_type": "code",
      "source": [
        "s_w_1"
      ],
      "execution_count": 0,
      "outputs": [
        {
          "output_type": "execute_result",
          "data": {
            "text/plain": [
              "matrix([[19.1434,  9.0356,  9.7634,  3.2394],\n",
              "        [ 9.0356, 11.8658,  4.6232,  2.4746],\n",
              "        [ 9.7634,  4.6232, 12.2978,  3.8794],\n",
              "        [ 3.2394,  2.4746,  3.8794,  2.4604]])"
            ]
          },
          "metadata": {
            "tags": []
          },
          "execution_count": 81
        }
      ]
    },
    {
      "metadata": {
        "id": "ZN3qmFdZid5Z",
        "colab_type": "code",
        "outputId": "562b211d-8120-4e59-ad3b-6334dc979337",
        "colab": {
          "base_uri": "https://localhost:8080/",
          "height": 68
        }
      },
      "cell_type": "code",
      "source": [
        "np.where(y1==0)"
      ],
      "execution_count": 0,
      "outputs": [
        {
          "output_type": "execute_result",
          "data": {
            "text/plain": [
              "(array([ 0,  1,  2,  3,  4,  5,  6,  7,  8,  9, 10, 11, 12, 13, 14, 15, 16,\n",
              "        17, 18, 19, 20, 21, 22, 23, 24, 25, 26, 27, 28, 29, 30, 31, 32, 33,\n",
              "        34, 35, 36, 37, 38, 39, 40, 41, 42, 43, 44, 45, 46, 47, 48, 49]),)"
            ]
          },
          "metadata": {
            "tags": []
          },
          "execution_count": 82
        }
      ]
    },
    {
      "metadata": {
        "id": "iWs8jSYskmnE",
        "colab_type": "code",
        "colab": {}
      },
      "cell_type": "code",
      "source": [
        "x1 = [[1, 0, 1],[-1, 0, 1],[0, 1, 1],[0, -1, 1]]"
      ],
      "execution_count": 0,
      "outputs": []
    },
    {
      "metadata": {
        "id": "pVFXO3Y7qPQT",
        "colab_type": "code",
        "colab": {}
      },
      "cell_type": "code",
      "source": [
        "y1 = [1, -1,1,-1]"
      ],
      "execution_count": 0,
      "outputs": []
    },
    {
      "metadata": {
        "id": "kRX7L8fcsVHX",
        "colab_type": "code",
        "outputId": "c4e672c4-c15e-49c2-ba3b-6dcbdf3482a5",
        "colab": {
          "base_uri": "https://localhost:8080/",
          "height": 34
        }
      },
      "cell_type": "code",
      "source": [
        "y1*np.matrix(np.transpose(x1)).I"
      ],
      "execution_count": 0,
      "outputs": [
        {
          "output_type": "execute_result",
          "data": {
            "text/plain": [
              "matrix([[ 1.00000000e+00,  1.00000000e+00, -2.22044605e-16]])"
            ]
          },
          "metadata": {
            "tags": []
          },
          "execution_count": 85
        }
      ]
    },
    {
      "metadata": {
        "id": "s1icxGgQsi2f",
        "colab_type": "code",
        "outputId": "8e515146-c286-41a9-acd1-f289421135b8",
        "colab": {
          "base_uri": "https://localhost:8080/",
          "height": 91
        }
      },
      "cell_type": "code",
      "source": [
        "\n",
        "for  i in np.arange(-2.000, 1.000,0.001):\n",
        "  temp_pred= pred_x_1;\n",
        "  temp_pred[temp_pred > i] = 1\n",
        "  temp_pred[temp_pred <= i] = 0  \n",
        "  temp_pred = temp_pred.astype(int)\n",
        "  test = (temp_pred == y1);\n",
        "  np.where(test == True)"
      ],
      "execution_count": 0,
      "outputs": [
        {
          "output_type": "stream",
          "text": [
            "/usr/local/lib/python3.6/dist-packages/ipykernel_launcher.py:7: DeprecationWarning: elementwise == comparison failed; this will raise an error in the future.\n",
            "  import sys\n"
          ],
          "name": "stderr"
        }
      ]
    },
    {
      "metadata": {
        "id": "ZG-g1KTDu78s",
        "colab_type": "code",
        "outputId": "65944051-84c6-441e-caba-658d8689f71d",
        "colab": {
          "base_uri": "https://localhost:8080/",
          "height": 34
        }
      },
      "cell_type": "code",
      "source": [
        "y1"
      ],
      "execution_count": 0,
      "outputs": [
        {
          "output_type": "execute_result",
          "data": {
            "text/plain": [
              "[1, -1, 1, -1]"
            ]
          },
          "metadata": {
            "tags": []
          },
          "execution_count": 87
        }
      ]
    },
    {
      "metadata": {
        "id": "KvIuTzR7vEEp",
        "colab_type": "code",
        "colab": {}
      },
      "cell_type": "code",
      "source": [
        ""
      ],
      "execution_count": 0,
      "outputs": []
    }
  ]
}