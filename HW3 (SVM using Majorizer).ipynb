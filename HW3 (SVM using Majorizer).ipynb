{
  "nbformat": 4,
  "nbformat_minor": 0,
  "metadata": {
    "colab": {
      "name": "HW3.ipynb",
      "version": "0.3.2",
      "provenance": [],
      "collapsed_sections": [],
      "include_colab_link": true
    },
    "kernelspec": {
      "name": "python3",
      "display_name": "Python 3"
    }
  },
  "cells": [
    {
      "cell_type": "markdown",
      "metadata": {
        "id": "view-in-github",
        "colab_type": "text"
      },
      "source": [
        "<a href=\"https://colab.research.google.com/github/suhasparashar/ML/blob/master/HW3%20(SVM%20using%20Majorizer).ipynb\" target=\"_parent\"><img src=\"https://colab.research.google.com/assets/colab-badge.svg\" alt=\"Open In Colab\"/></a>"
      ]
    },
    {
      "metadata": {
        "id": "e7H_csVYiRD1",
        "colab_type": "code",
        "colab": {}
      },
      "cell_type": "code",
      "source": [
        "from sklearn import datasets\n",
        "iris = datasets.load_iris()\n",
        "\n",
        "y = iris.target\n",
        "x = iris.data\n"
      ],
      "execution_count": 0,
      "outputs": []
    },
    {
      "metadata": {
        "id": "p5PJHDbI74A7",
        "colab_type": "code",
        "colab": {}
      },
      "cell_type": "code",
      "source": [
        "import numpy as np"
      ],
      "execution_count": 0,
      "outputs": []
    },
    {
      "metadata": {
        "id": "m68JA76k8C5x",
        "colab_type": "code",
        "colab": {}
      },
      "cell_type": "code",
      "source": [
        "capA = np.append(np.append(np.identity(4),np.zeros((4,1)),axis=1),np.zeros((1,5)),axis=0)\n",
        "x_0 = np.matrix(x[0:50])\n",
        "x_0 = np.append(np.array(x_0),np.ones((len(x_0),1)),axis=1)\n",
        "\n",
        "\n",
        "x_1 = np.matrix(x[50:100])\n",
        "x_1 = np.append(np.array(x_1),np.ones((len(x_1),1)),axis=1)\n",
        "\n",
        "\n",
        "x_2 = np.matrix(x[100:150])\n",
        "x_2 = np.append(np.array(x_2),np.ones((len(x_2),1)),axis=1)\n",
        "\n",
        "\n",
        "\n",
        "y1 = np.append(y[0:50],y[50:100], axis = 0);\n",
        "\n",
        "y2 = np.append(y[50:100],y[100:150], axis = 0);\n",
        "y3 = np.append(y[100:150],y[0:50], axis = 0);"
      ],
      "execution_count": 0,
      "outputs": []
    },
    {
      "metadata": {
        "id": "u6lZF1X5lkfV",
        "colab_type": "code",
        "colab": {}
      },
      "cell_type": "code",
      "source": [
        "y1[y1==0] = -1;\n",
        "y1[y1==1] = 1;\n",
        "\n",
        "y2[y2==1] = -1;\n",
        "y2[y2==2] = 1;\n",
        "\n",
        "y3[y3==2] = -1;\n",
        "y3[y3==0] = 1;"
      ],
      "execution_count": 0,
      "outputs": []
    },
    {
      "metadata": {
        "id": "WhOc99LG-FF0",
        "colab_type": "code",
        "colab": {}
      },
      "cell_type": "code",
      "source": [
        "x1 = np.matrix(np.append(x_0,x_1,axis = 0))\n",
        "x2 = np.matrix(np.append(x_1,x_2,axis = 0))\n",
        "x3 = np.matrix(np.append(x_2,x_0,axis = 0))\n"
      ],
      "execution_count": 0,
      "outputs": []
    },
    {
      "metadata": {
        "id": "_GMxU85rM8Ct",
        "colab_type": "code",
        "colab": {}
      },
      "cell_type": "code",
      "source": [
        "def findAcc(W, X , Y):\n",
        "  pred = W*X.T\n",
        "  count = 0;\n",
        "  pred[pred >= 1] =  1\n",
        "  pred[pred <= - 1] = -1\n",
        "  pred = np.array(pred)[0]\n",
        "  for i in range(len(Y)):\n",
        "    if pred[i] == Y[i]:\n",
        "      count = count + 1;\n",
        "      \n",
        "  return 100 - count"
      ],
      "execution_count": 0,
      "outputs": []
    },
    {
      "metadata": {
        "id": "xsSI3eUD_Dio",
        "colab_type": "code",
        "colab": {}
      },
      "cell_type": "code",
      "source": [
        "def leastSquares(X, Y):\n",
        "  return (Y.T*X) * np.linalg.inv(X.T*X);\n",
        "  "
      ],
      "execution_count": 0,
      "outputs": []
    },
    {
      "metadata": {
        "id": "2e7a7o9s_Pe5",
        "colab_type": "code",
        "colab": {}
      },
      "cell_type": "code",
      "source": [
        "def majoriser(W, X, Y, e):\n",
        "  U = np.ones(len(Y)) - np.multiply(Y,W*X.T)\n",
        "  U = np.array(U)\n",
        "  U[U < e] = e\n",
        "  return U[0]"
      ],
      "execution_count": 0,
      "outputs": []
    },
    {
      "metadata": {
        "id": "GenuU4rCttzb",
        "colab_type": "code",
        "colab": {}
      },
      "cell_type": "code",
      "source": [
        "def findK(X, U, C):\n",
        "  s = X[0].T*X[0]/U[0];\n",
        "  for i in range(1,len(X)):\n",
        "    s = s + (X[i].T*X[i]/U[i]);\n",
        "  return C*s;\n",
        "  "
      ],
      "execution_count": 0,
      "outputs": []
    },
    {
      "metadata": {
        "id": "FzaTG27hucI4",
        "colab_type": "code",
        "colab": {}
      },
      "cell_type": "code",
      "source": [
        "def findV(Y, X, U, C):\n",
        "  s = ((1 + U[0])*Y.T*X)/(2*U[0]);\n",
        "  for i in range(1,len(X)):\n",
        "    s = s + ((1 + U[i])*Y.T*X)/(2*U[i]);\n",
        "  return C*s;\n",
        "  "
      ],
      "execution_count": 0,
      "outputs": []
    },
    {
      "metadata": {
        "id": "gVq_S6uJwcTB",
        "colab_type": "code",
        "colab": {}
      },
      "cell_type": "code",
      "source": [
        "def findW(CapA, K, V):\n",
        "  return np.reshape(np.linalg.inv(CapA + K) * V.T, (1,5));\n"
      ],
      "execution_count": 0,
      "outputs": []
    },
    {
      "metadata": {
        "id": "JVx2NOZS2F8M",
        "colab_type": "code",
        "colab": {}
      },
      "cell_type": "code",
      "source": [
        "def MajVal(W, CapA, C, Y, X, U):\n",
        "  s = (( 1 - Y[0] * np.array(W*X[0].T)[0][0] + U[0])**2)/(4*U[0]);\n",
        "  for i in range(1,len(X)):\n",
        "    s = s + ((1 - Y[i]*np.array(W*X[i].T)[0][0] + U[i])**2)/(4*U[i]);\n",
        "    \n",
        "  return (0.5*W*CapA*W.T) + (C*( s) )\n",
        "  \n"
      ],
      "execution_count": 0,
      "outputs": []
    },
    {
      "metadata": {
        "id": "9wS41w5E-3-9",
        "colab_type": "code",
        "colab": {}
      },
      "cell_type": "code",
      "source": [
        "u1 = np.ones(150)\n",
        "u2 = np.ones(150)\n",
        "u3 = np.ones(150)"
      ],
      "execution_count": 0,
      "outputs": []
    },
    {
      "metadata": {
        "id": "EnR4zXIbQADe",
        "colab_type": "text"
      },
      "cell_type": "markdown",
      "source": [
        "# Classification Criterion\n",
        "-1 belongs to class 1 \n",
        "\n",
        "+1 belongs to class 2"
      ]
    },
    {
      "metadata": {
        "id": "bOnTA-PZFc6J",
        "colab_type": "code",
        "outputId": "4097270c-af5b-4640-da12-58cf95b19e1c",
        "colab": {
          "base_uri": "https://localhost:8080/",
          "height": 51
        }
      },
      "cell_type": "code",
      "source": [
        "C1=[0.01,.1,10,100]\n",
        "l1 = [[],[],[],[]]\n",
        "a1 = [[],[],[],[]]\n",
        "ct = 0;\n",
        "for C in C1:\n",
        "  for i in range(10):\n",
        "    k1 = findK(x1, u1, C)\n",
        "    v1 = findV(y1, x1, u1, C)\n",
        "    w1 = findW(capA, k1, v1)\n",
        "    \n",
        "    l1[ct].append(np.array(MajVal(w1, capA, C, y1, x1, u1)*(-1))[0][0]);\n",
        "    u1 = majoriser(w1, x1, y1, 1e-8)\n",
        "    a1[ct].append(findAcc(w1,x1 , y1))\n",
        "    if len(l1[ct])>2 and l1[ct][-1] == l1[ct][-2]:\n",
        "      break\n",
        "  ct=ct+1\n",
        "print(\"MissClassification Error\")\n",
        "a1"
      ],
      "execution_count": 0,
      "outputs": [
        {
          "output_type": "stream",
          "text": [
            "MissClassification Error\n"
          ],
          "name": "stdout"
        },
        {
          "output_type": "execute_result",
          "data": {
            "text/plain": [
              "[[0, 0, 0], [0, 0, 0], [0, 0, 0], [0, 0, 0]]"
            ]
          },
          "metadata": {
            "tags": []
          },
          "execution_count": 14
        }
      ]
    },
    {
      "metadata": {
        "id": "yjTgBGZMS4Cz",
        "colab_type": "text"
      },
      "cell_type": "markdown",
      "source": [
        "# Classification Criterion\n",
        "-1 belongs to class 2 \n",
        "\n",
        "+1 belongs to class 3"
      ]
    },
    {
      "metadata": {
        "id": "iK99mm_MOv6a",
        "colab_type": "code",
        "outputId": "21e05854-6358-46c0-bb55-c8548181f01c",
        "colab": {
          "base_uri": "https://localhost:8080/",
          "height": 51
        }
      },
      "cell_type": "code",
      "source": [
        "C1=[0.01,.1,10,100]\n",
        "l2 = [[],[],[],[]]\n",
        "a2 = [[],[],[],[]]\n",
        "\n",
        "ct = 0;\n",
        "for C in C1:\n",
        "  for i in range(10):\n",
        "    \n",
        "    k2 = findK(x2, u2, C)\n",
        "    v2 = findV(y2, x2, u2, C)\n",
        "    w2 = findW(capA, k2, v2)\n",
        "    \n",
        "    l2[ct].append(np.array(MajVal(w2, capA, C, y2, x2, u2)*(-1))[0][0])\n",
        "    u2 = majoriser(w2, x2, y2, 1e-8)\n",
        "\n",
        "    a2[ct].append(findAcc(w2,x2 , y2))\n",
        "    if len(l2[ct])>2 and l2[ct][-1] == l2[ct][-2]:\n",
        "      break\n",
        "  ct=ct+1\n",
        "print(\"MissClassification Error\")\n",
        "a2\n"
      ],
      "execution_count": 0,
      "outputs": [
        {
          "output_type": "stream",
          "text": [
            "MissClassification Error\n"
          ],
          "name": "stdout"
        },
        {
          "output_type": "execute_result",
          "data": {
            "text/plain": [
              "[[8, 4, 3, 3, 3, 3], [3, 3, 3], [3, 3, 3], [3, 3, 3]]"
            ]
          },
          "metadata": {
            "tags": []
          },
          "execution_count": 15
        }
      ]
    },
    {
      "metadata": {
        "id": "4s-l9xUPS9Ri",
        "colab_type": "text"
      },
      "cell_type": "markdown",
      "source": [
        "# Classification Criterion\n",
        "-1 belongs to class 3 \n",
        "\n",
        "+1 belongs to class 1"
      ]
    },
    {
      "metadata": {
        "id": "QGWMlQEAU4At",
        "colab_type": "code",
        "outputId": "d9f75f15-a1cf-4f75-a6f4-130eddfbcee1",
        "colab": {
          "base_uri": "https://localhost:8080/",
          "height": 51
        }
      },
      "cell_type": "code",
      "source": [
        "C1=[0.01,.1,10,100]\n",
        "\n",
        "l3 = [[],[],[],[]]\n",
        "a3 = [[],[],[],[]]\n",
        "\n",
        "\n",
        "ct = 0;\n",
        "for C in C1:\n",
        "  for i in range(10):\n",
        "\n",
        "    k3 = findK(x3, u3, C)\n",
        "    v3 = findV(y3, x3, u3, C)\n",
        "    w3 = findW(capA, k3, v3)\n",
        "    \n",
        "\n",
        "\n",
        "    \n",
        "    l3[ct].append((np.array(MajVal(w3, capA, C, y3, x3, u3)*(-1))[0][0]))\n",
        "    u3 = majoriser(w3, x3, y3, 1e-8)\n",
        "    a3[ct].append(findAcc(w3,x3 , y3))\n",
        "    if len(l3[ct])>2 and l3[ct][-1] == l3[ct][-2]:\n",
        "      break\n",
        "  ct=ct+1\n",
        "print(\"MissClassification Error\")\n",
        "a3"
      ],
      "execution_count": 0,
      "outputs": [
        {
          "output_type": "stream",
          "text": [
            "MissClassification Error\n"
          ],
          "name": "stdout"
        },
        {
          "output_type": "execute_result",
          "data": {
            "text/plain": [
              "[[0, 0, 0], [0, 0, 0], [0, 0, 0], [0, 0, 0]]"
            ]
          },
          "metadata": {
            "tags": []
          },
          "execution_count": 16
        }
      ]
    },
    {
      "metadata": {
        "id": "vG75MtucQ_r4",
        "colab_type": "code",
        "colab": {}
      },
      "cell_type": "code",
      "source": [
        "import matplotlib.pyplot as plt"
      ],
      "execution_count": 0,
      "outputs": []
    },
    {
      "metadata": {
        "id": "eQvx9LsHSSLY",
        "colab_type": "code",
        "outputId": "46c138f4-9921-411b-f9ef-dbc96a447cf2",
        "colab": {
          "base_uri": "https://localhost:8080/",
          "height": 379
        }
      },
      "cell_type": "code",
      "source": [
        "plt.plot(np.arange(len(l1[0])),l1[0])\n",
        "plt.title(\"Class 1 vs Class 2 : C = 0.01\")"
      ],
      "execution_count": 0,
      "outputs": [
        {
          "output_type": "execute_result",
          "data": {
            "text/plain": [
              "Text(0.5, 1.0, 'Class 1 vs Class 2 : C = 0.01')"
            ]
          },
          "metadata": {
            "tags": []
          },
          "execution_count": 18
        },
        {
          "output_type": "display_data",
          "data": {
            "image/png": "[encoded data removed]",
            "text/plain": [
              "<Figure size 576x396 with 1 Axes>"
            ]
          },
          "metadata": {
            "tags": []
          }
        }
      ]
    },
    {
      "metadata": {
        "id": "XRwh3cH4RFyl",
        "colab_type": "code",
        "outputId": "2d4f2dc3-f5ce-446a-b798-63b17fd8cf01",
        "colab": {
          "base_uri": "https://localhost:8080/",
          "height": 379
        }
      },
      "cell_type": "code",
      "source": [
        "plt.plot(np.arange(len(l2[0])),l2[0])\n",
        "plt.title(\"Class 2 vs Class 3 : C = 0.01\")"
      ],
      "execution_count": 0,
      "outputs": [
        {
          "output_type": "execute_result",
          "data": {
            "text/plain": [
              "Text(0.5, 1.0, 'Class 2 vs Class 3 : C = 0.01')"
            ]
          },
          "metadata": {
            "tags": []
          },
          "execution_count": 19
        },
        {
          "output_type": "display_data",
          "data": {
            "image/png": "[encoded data removed]",
            "text/plain": [
              "<Figure size 576x396 with 1 Axes>"
            ]
          },
          "metadata": {
            "tags": []
          }
        }
      ]
    },
    {
      "metadata": {
        "id": "c4PYkmggSXAU",
        "colab_type": "code",
        "outputId": "bc8cf676-c2fb-4616-aac6-213ee36d6cf0",
        "colab": {
          "base_uri": "https://localhost:8080/",
          "height": 379
        }
      },
      "cell_type": "code",
      "source": [
        "plt.plot(np.arange(len(l3[0])),l3[0])\n",
        "plt.title(\"Class 3 vs Class 1 : C = 0.01\")"
      ],
      "execution_count": 0,
      "outputs": [
        {
          "output_type": "execute_result",
          "data": {
            "text/plain": [
              "Text(0.5, 1.0, 'Class 3 vs Class 1 : C = 0.01')"
            ]
          },
          "metadata": {
            "tags": []
          },
          "execution_count": 20
        },
        {
          "output_type": "display_data",
          "data": {
            "image/png": "[encoded data removed]",
            "text/plain": [
              "<Figure size 576x396 with 1 Axes>"
            ]
          },
          "metadata": {
            "tags": []
          }
        }
      ]
    },
    {
      "metadata": {
        "id": "3NkK-Of-Paqw",
        "colab_type": "text"
      },
      "cell_type": "markdown",
      "source": [
        "# **Convergent Criteria : **  \n",
        "If the majorizer value between two iterations not change above a threshold, we stop the iteration\n"
      ]
    },
    {
      "metadata": {
        "id": "-HmiqciSOTWH",
        "colab_type": "code",
        "colab": {}
      },
      "cell_type": "code",
      "source": [
        "from sklearn.svm import SVC"
      ],
      "execution_count": 0,
      "outputs": []
    },
    {
      "metadata": {
        "id": "TVR5mtLrHzQT",
        "colab_type": "code",
        "outputId": "ab692975-5147-4096-f527-ab533922a850",
        "colab": {
          "base_uri": "https://localhost:8080/",
          "height": 85
        }
      },
      "cell_type": "code",
      "source": [
        "clf = SVC(kernel = 'linear',C=0.01)\n",
        "clf.fit(x[0:100],y1)"
      ],
      "execution_count": 0,
      "outputs": [
        {
          "output_type": "execute_result",
          "data": {
            "text/plain": [
              "SVC(C=0.01, cache_size=200, class_weight=None, coef0=0.0,\n",
              "  decision_function_shape='ovr', degree=3, gamma='auto_deprecated',\n",
              "  kernel='linear', max_iter=-1, probability=False, random_state=None,\n",
              "  shrinking=True, tol=0.001, verbose=False)"
            ]
          },
          "metadata": {
            "tags": []
          },
          "execution_count": 22
        }
      ]
    },
    {
      "metadata": {
        "id": "-bVtSJEGeCMD",
        "colab_type": "code",
        "outputId": "55437cf0-c003-4bda-abfa-35d7105e8eaa",
        "colab": {
          "base_uri": "https://localhost:8080/",
          "height": 119
        }
      },
      "cell_type": "code",
      "source": [
        "wskl1 = clf.coef_[0]\n",
        "bskl1 = clf.intercept_[0]\n",
        "print(\"w for case 1\")\n",
        "print(w1)\n",
        "print(\"w from sklearn\")\n",
        "print(wskl1)\n",
        "print(\"b from sklearn\")\n",
        "print(bskl1)"
      ],
      "execution_count": 0,
      "outputs": [
        {
          "output_type": "stream",
          "text": [
            "w for case 1\n",
            "[[ -2.84896813 -16.81975158  20.31308955  28.78501702 -13.0296578 ]]\n",
            "w from sklearn\n",
            "[ 0.12682126 -0.17203387  0.54581657  0.21521261]\n",
            "b from sklearn\n",
            "-1.9100768495115985\n"
          ],
          "name": "stdout"
        }
      ]
    },
    {
      "metadata": {
        "id": "KWb3zo5SfgGf",
        "colab_type": "code",
        "outputId": "20b6dd38-22ea-4326-dd56-80d3bbfa8657",
        "colab": {
          "base_uri": "https://localhost:8080/",
          "height": 85
        }
      },
      "cell_type": "code",
      "source": [
        "clf = SVC(kernel = 'linear',C=0.01)\n",
        "clf.fit(x[50:150],y2)"
      ],
      "execution_count": 0,
      "outputs": [
        {
          "output_type": "execute_result",
          "data": {
            "text/plain": [
              "SVC(C=0.01, cache_size=200, class_weight=None, coef0=0.0,\n",
              "  decision_function_shape='ovr', degree=3, gamma='auto_deprecated',\n",
              "  kernel='linear', max_iter=-1, probability=False, random_state=None,\n",
              "  shrinking=True, tol=0.001, verbose=False)"
            ]
          },
          "metadata": {
            "tags": []
          },
          "execution_count": 24
        }
      ]
    },
    {
      "metadata": {
        "id": "dKHCXtNVjIXQ",
        "colab_type": "code",
        "outputId": "c15b7fe5-5fef-4761-edb4-6da033cc5dd7",
        "colab": {
          "base_uri": "https://localhost:8080/",
          "height": 119
        }
      },
      "cell_type": "code",
      "source": [
        "wskl2 = clf.coef_[0]\n",
        "bskl2 = clf.intercept_[0]\n",
        "print(\"w for case 2\")\n",
        "print(w2)\n",
        "print(\"w from sklearn\")\n",
        "print(wskl2)\n",
        "print(\"b from sklearn\")\n",
        "print(bskl2)"
      ],
      "execution_count": 0,
      "outputs": [
        {
          "output_type": "stream",
          "text": [
            "w for case 2\n",
            "[[-19.46533587 -29.82153753  37.75400145  65.86096282 -87.95009616]]\n",
            "w from sklearn\n",
            "[0.19656521 0.05988142 0.47852569 0.29474308]\n",
            "b from sklearn\n",
            "-4.29011214213263\n"
          ],
          "name": "stdout"
        }
      ]
    },
    {
      "metadata": {
        "id": "NdKfR6xs7dj1",
        "colab_type": "code",
        "outputId": "fe1dcad1-611a-4848-e1be-8a0409222218",
        "colab": {
          "base_uri": "https://localhost:8080/",
          "height": 85
        }
      },
      "cell_type": "code",
      "source": [
        "clf = SVC(kernel = 'linear',C=0.01)\n",
        "clf.fit(np.append(x[100:150],x[0:50],axis=0),y2)"
      ],
      "execution_count": 0,
      "outputs": [
        {
          "output_type": "execute_result",
          "data": {
            "text/plain": [
              "SVC(C=0.01, cache_size=200, class_weight=None, coef0=0.0,\n",
              "  decision_function_shape='ovr', degree=3, gamma='auto_deprecated',\n",
              "  kernel='linear', max_iter=-1, probability=False, random_state=None,\n",
              "  shrinking=True, tol=0.001, verbose=False)"
            ]
          },
          "metadata": {
            "tags": []
          },
          "execution_count": 26
        }
      ]
    },
    {
      "metadata": {
        "id": "i7JSpz9SBxh6",
        "colab_type": "code",
        "outputId": "29aca488-84d6-4cca-bcf6-7116f5ceb69e",
        "colab": {
          "base_uri": "https://localhost:8080/",
          "height": 119
        }
      },
      "cell_type": "code",
      "source": [
        "wskl3 = clf.coef_[0]\n",
        "bskl3 = clf.intercept_[0]\n",
        "print(\"w for case 3\")\n",
        "print(w3)\n",
        "print(\"w from sklearn\")\n",
        "print(wskl3)\n",
        "print(\"b from sklearn\")\n",
        "print(bskl3)"
      ],
      "execution_count": 0,
      "outputs": [
        {
          "output_type": "stream",
          "text": [
            "w for case 3\n",
            "[[  7.95625453   6.037053   -18.34122057 -18.46155966  19.84797813]]\n",
            "w from sklearn\n",
            "[-0.10558651  0.09315191 -0.4217961  -0.19039805]\n",
            "b from sklearn\n",
            "1.9030521456556233\n"
          ],
          "name": "stdout"
        }
      ]
    }
  ]
}